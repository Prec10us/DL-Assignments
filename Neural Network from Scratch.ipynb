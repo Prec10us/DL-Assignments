{
 "cells": [
  {
   "cell_type": "code",
   "execution_count": 1,
   "metadata": {},
   "outputs": [],
   "source": [
    "import numpy as np\n",
    "import matplotlib.pyplot as plt"
   ]
  },
  {
   "cell_type": "code",
   "execution_count": 2,
   "metadata": {},
   "outputs": [],
   "source": [
    "#Activation functions and their derivatives\n",
    "def tanh(x):\n",
    "    return np.tanh(x)\n",
    "\n",
    "def tanh_Der(x):\n",
    "    return 1 - tanh(x)**2\n",
    "\n",
    "def sigmoid(x):\n",
    "    ans = 1/(1 + np.exp(-x))\n",
    "    return ans\n",
    "\n",
    "def sigmoid_Der(x):\n",
    "    ans = sigmoid(x) * (1 - sigmoid(x))\n",
    "    return ans\n",
    "\n",
    "def noAct(x):\n",
    "    return x\n",
    "\n",
    "def noAct_Der(x):\n",
    "    return 1\n",
    "\n",
    "def reLu(x):\n",
    "    x = np.maximum(x, 0)\n",
    "    return x\n",
    "\n",
    "def reLu_Der(x):\n",
    "    return (x > 0).astype(x.dtype)\n",
    "\n",
    "def leakyreLu(x):\n",
    "    return np.maximum(0.01 * x, x)\n",
    "\n",
    "def leakyreLu_Der(x, alpha = 0.01):\n",
    "    dx = np.ones_like(x)\n",
    "    dx[x < 0] = alpha\n",
    "    return dx"
   ]
  },
  {
   "cell_type": "code",
   "execution_count": 19,
   "metadata": {},
   "outputs": [],
   "source": [
    "#actFunc = 0 ==> No Activation Function (Linear)\n",
    "#actFunc = 1 ==> tanh\n",
    "#actFunc = 2 ==> sigmoid\n",
    "#actFunc = 3 ==> ReLu\n",
    "#actFunc = 4 ==> Leaky ReLu\n",
    "\n",
    "class Layer:\n",
    "    \n",
    "    def __init__(self, nNodes, actFunc, prevLayerNodes):\n",
    "        self.nodes = nNodes #number of nodes\n",
    "        self.actFunction = actFunc #activation function identity\n",
    "        self.activations = [noAct, tanh, sigmoid, reLu, leakyreLu] #list of activation functions\n",
    "        self.activationDerivatives = [noAct_Der, tanh_Der, sigmoid_Der, reLu_Der, leakyreLu_Der] #list of activation function derivatives\n",
    "        self.bias = 2 * np.random.random(nNodes) -1 #random bias\n",
    "        self.weights = 2 * np.random.random([nNodes, prevLayerNodes]) - 1 #random weights\n",
    "        self.error = None #will calculate during training\n",
    "        self.delta = None #will calculate during training\n",
    "        self.adjust = None #will calculate during training\n",
    "        \n",
    "    def activate(self, x):\n",
    "        return self.activations[self.actFunction](x)\n",
    "    \n",
    "    def activationDer(self,x):\n",
    "        return self.activationDerivatives[self.actFunction](x)\n",
    "    \n",
    "    def calculate(self, inputValues):\n",
    "        #calculates output\n",
    "        self.z = np.dot(inputValues, self.weights.T) + self.bias\n",
    "        self.A = self.activate(self.z)\n",
    "        self.dz = self.activationDer(self.z)\n",
    "        return self.A"
   ]
  },
  {
   "cell_type": "code",
   "execution_count": 4,
   "metadata": {},
   "outputs": [],
   "source": [
    "class Network:\n",
    "    \n",
    "    def __init__(self, nLayers, nodeCount, activations, outputAct, inputNodeCount, outputNodeCount):\n",
    "        self.layers = nLayers #number of layers\n",
    "        self.output = None\n",
    "        \n",
    "        self.layerList = [] #list of layers\n",
    "        inputLayer = Layer(nodeCount[0], activations[0], inputNodeCount) #creating first hidden layer\n",
    "        self.layerList.append(inputLayer)\n",
    "        \n",
    "        for i in range(1, nLayers):\n",
    "            #creating layers in between first hidden layer and output layer\n",
    "            currLayer = Layer(nodeCount[i], activations[i], nodeCount[i-1])\n",
    "            self.layerList.append(currLayer)\n",
    "        \n",
    "        outputLayer = Layer(outputNodeCount, outputAct, nodeCount[nLayers - 1]) #creating output layer\n",
    "        self.layerList.append(outputLayer)\n",
    "        \n",
    "    def calculateOutput(self, inputValues):\n",
    "        for layer in self.layerList:\n",
    "            self.output = layer.calculate(inputValues)\n",
    "            inputValues = self.output\n",
    "        return self.output\n",
    "        \n",
    "    def trainNetwork(self, inputValues, actualOutput, rate, max_iter, tol):\n",
    "        \n",
    "        for i in range(0, max_iter):\n",
    "            currOut = self.calculateOutput(inputValues)\n",
    "            \n",
    "            error = currOut - actualOutput\n",
    "            \n",
    "            meanError = error**2\n",
    "            meanError = np.mean(meanError)\n",
    "            \n",
    "            if(meanError < tol): break\n",
    "            \n",
    "            #adjusts output layer weights and bias\n",
    "            currLayerIndex = len(self.layerList) - 1\n",
    "            currLayer = self.layerList[currLayerIndex]\n",
    "            prevLayer = self.layerList[currLayerIndex - 1]\n",
    "            currLayer.error = error\n",
    "            currLayer.delta = error * currLayer.dz\n",
    "            currLayer.adjust = np.dot(prevLayer.A.T, currLayer.delta).T\n",
    "            currLayer.weights -= rate * currLayer.adjust\n",
    "            currLayer.bias -= rate * np.sum(currLayer.delta, axis = 0)\n",
    "            currLayerIndex -= 1\n",
    "            \n",
    "            #adjusts intermediate hidden layers weights and bias\n",
    "            while(currLayerIndex > 0):\n",
    "                currLayer = self.layerList[currLayerIndex]\n",
    "                nextLayer = self.layerList[currLayerIndex + 1]\n",
    "                prevLayer = self.layerList[currLayerIndex - 1]\n",
    "                currLayer.error = np.dot(nextLayer.delta, nextLayer.weights)\n",
    "                currLayer.delta = currLayer.error * currLayer.dz\n",
    "                currLayer.adjust = np.dot(prevLayer.A.T, currLayer.delta).T\n",
    "                currLayer.weights -= rate * currLayer.adjust\n",
    "                currLayer.bias -= rate * np.sum(currLayer.delta, axis = 0)\n",
    "                currLayerIndex -= 1\n",
    "            \n",
    "            #adjusts first hidden layer weights and bias\n",
    "            currLayer = self.layerList[currLayerIndex]\n",
    "            nextLayer = self.layerList[currLayerIndex + 1]\n",
    "            currLayer.error = np.dot(nextLayer.delta, nextLayer.weights)\n",
    "            currLayer.delta = currLayer.error * currLayer.dz\n",
    "            currLayer.adjust = np.dot(inputValues.T, currLayer.delta).T\n",
    "            currLayer.weights -= rate * currLayer.adjust\n",
    "            currLayer.bias -= rate * np.sum(currLayer.delta, axis = 0)\n",
    "            \n",
    "        return"
   ]
  },
  {
   "cell_type": "code",
   "execution_count": 21,
   "metadata": {},
   "outputs": [],
   "source": [
    "#generating data\n",
    "k = 11 #stiffness\n",
    "m = 94 #mass\n",
    "omega = (k/m)**0.5 \n",
    "e = 0.1 #error\n",
    "A = 10 #amplitude\n",
    "phi = 5 #initial phase\n",
    "n = 60 #number of data points\n",
    "\n",
    "#generating data for n values of x \n",
    "x_meas = np.linspace(0, 2*np.pi/omega,num = n)\n",
    "y_meas = np.zeros(len(x_meas))\n",
    "y_actual = np.zeros(len(x_meas))\n",
    "\n",
    "i = 0\n",
    "for x in x_meas:\n",
    "    y_actual[i] = A * np.cos(omega*x + phi)\n",
    "    error = np.random.uniform(-1,1) * e * y_actual[i]\n",
    "    y_meas[i] = y_actual[i] + error\n",
    "    i += 1"
   ]
  },
  {
   "cell_type": "code",
   "execution_count": null,
   "metadata": {},
   "outputs": [],
   "source": [
    "#modifying data a bit so that we can feed it to our network\n",
    "inputValues = np.array(x_meas, ndmin = 2).T\n",
    "y_actual = np.array(y_actual, ndmin = 2).T\n",
    "yNorm = np.linalg.norm(y_actual)\n",
    "outputValues = (y_actual/yNorm)\n",
    "\n",
    "y_meas = np.array(y_meas, ndmin = 2)\n",
    "y_meas = y_meas/np.linalg.norm(y_meas)"
   ]
  },
  {
   "cell_type": "code",
   "execution_count": 23,
   "metadata": {},
   "outputs": [],
   "source": [
    "#creating neural network\n",
    "nodeCount = [3,5,6]\n",
    "activations = [1,1,1]\n",
    "outputActivation = 1\n",
    "inputNodeCount = 1\n",
    "outputNodeCount = 1\n",
    "nn = Network(3, nodeCount, activations, outputActivation, inputNodeCount, outputNodeCount)\n"
   ]
  },
  {
   "cell_type": "code",
   "execution_count": null,
   "metadata": {},
   "outputs": [],
   "source": [
    "#training the network\n",
    "max_iter = 200000\n",
    "rate = 0.001\n",
    "tol = 0.00001\n",
    "\n",
    "nn.trainNetwork(inputValues, outputValues, rate, max_iter, tol)\n",
    "\n",
    "networkOutput = nn.calculateOutput(inputValues)\n",
    "actualOutput = networkOutput * yNorm"
   ]
  },
  {
   "cell_type": "code",
   "execution_count": 18,
   "metadata": {},
   "outputs": [
    {
     "data": {
      "image/png": "[encoded data removed]",
      "text/plain": [
       "<Figure size 432x288 with 1 Axes>"
      ]
     },
     "metadata": {
      "needs_background": "light"
     },
     "output_type": "display_data"
    }
   ],
   "source": [
    "#plotting\n",
    "plt.plot(x_meas,y_actual, 'g',markersize = 1, label = 'Analytical')\n",
    "plt.plot(x_meas, actualOutput, label = 'Neural Network')\n",
    "plt.title('Neural Network Output and Analytical Output')\n",
    "plt.ylabel('Displacement')\n",
    "plt.xlabel('Time')\n",
    "plt.legend()\n",
    "plt.show()"
   ]
  }
 ],
 "metadata": {
  "kernelspec": {
   "display_name": "Python 3",
   "language": "python",
   "name": "python3"
  },
  "language_info": {
   "codemirror_mode": {
    "name": "ipython",
    "version": 3
   },
   "file_extension": ".py",
   "mimetype": "text/x-python",
   "name": "python",
   "nbconvert_exporter": "python",
   "pygments_lexer": "ipython3",
   "version": "3.8.3"
  }
 },
 "nbformat": 4,
 "nbformat_minor": 4
}
