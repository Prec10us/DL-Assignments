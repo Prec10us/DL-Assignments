{
 "cells": [
  {
   "cell_type": "code",
   "execution_count": 1,
   "metadata": {},
   "outputs": [],
   "source": [
    "from sympy import *\n",
    "import matplotlib.pyplot as plt"
   ]
  },
  {
   "cell_type": "code",
   "execution_count": 7,
   "metadata": {},
   "outputs": [],
   "source": [
    "def GradientDescent(f,variables,init_values,rate):\n",
    "    \n",
    "    #declare tolerance\n",
    "    tol = 0.001\n",
    "    \n",
    "    #initialize norm to some value greater than tolerance\n",
    "    norm = 10\n",
    "    \n",
    "    #list to store function's value at each point during iteration\n",
    "    func_values = []\n",
    "    func_values.append(evalFunc(f,variables,init_values))\n",
    "    \n",
    "    #list to count number of iterations\n",
    "    iter_count = []\n",
    "    i = 1\n",
    "    iter_count.append(i)\n",
    "    \n",
    "    #loop until norm < tol\n",
    "    while norm > tol or norm < -tol:\n",
    "        \n",
    "        if(i > 30000): break\n",
    "        \n",
    "        #partial differential list to store partial diff of f wrt each element of 'variables' list at the point init_values\n",
    "        partial = []\n",
    "        \n",
    "        #find partial diff values at init_values\n",
    "        j = 0\n",
    "        while j < len(variables):\n",
    "            curr = variables[j]\n",
    "            partial.append(findDiff(f,variables,curr,init_values))\n",
    "            j += 1\n",
    "        \n",
    "        #move by an amount of rate * partialDiff(f) wrt the corresponding variable\n",
    "        j = 0\n",
    "        while j < len(init_values):\n",
    "            init_values[j] += - rate * partial[j]\n",
    "            j += 1\n",
    "        \n",
    "        func_values.append(evalFunc(f,variables,init_values))\n",
    "        i += 1\n",
    "        iter_count.append(i)\n",
    "        # find norm   \n",
    "        j = 0\n",
    "        sq_sum = 0\n",
    "        while j < len(init_values):\n",
    "            sq_sum += partial[j]**2\n",
    "            j += 1\n",
    "        \n",
    "        norm = sq_sum**0.5\n",
    "    \n",
    "    plt.plot(iter_count,func_values)\n",
    "    plt.ylabel(\"Function Value\")\n",
    "    plt.xlabel(\"Iterations\")\n",
    "    plt.title(\"Function Value vs Iterations\")\n",
    "    \n",
    "    return init_values"
   ]
  },
  {
   "cell_type": "code",
   "execution_count": 3,
   "metadata": {},
   "outputs": [],
   "source": [
    "#function to evaluate f at a point denoted by 'values' list\n",
    "def evalFunc(f,variables,values):\n",
    "    i = 0\n",
    "    for x in variables :\n",
    "        f = f.subs(x,values[i])\n",
    "        i += 1\n",
    "    return f.evalf()\n",
    "\n",
    "#function to find value of partial derivative of f at point 'values' wrt variable 'wrt_this'\n",
    "def findDiff(f,variables,wrt_this,values):\n",
    "    g = f.diff(wrt_this)\n",
    "    i = 0\n",
    "    for x in variables :\n",
    "        g = g.subs(x,values[i])\n",
    "        i += 1\n",
    "    return g.evalf()"
   ]
  },
  {
   "cell_type": "code",
   "execution_count": 14,
   "metadata": {},
   "outputs": [
    {
     "name": "stdout",
     "output_type": "stream",
     "text": [
      "Optimal Point: \n",
      "x = 2.00043006057885, y = 4.00021503028942\n",
      "Optimal Value: \n",
      "f(x,y) = 2.31190126846126e-7\n"
     ]
    },
    {
     "data": {
      "image/png": "[encoded data removed]",
      "text/plain": [
       "<Figure size 432x288 with 1 Axes>"
      ]
     },
     "metadata": {
      "needs_background": "light"
     },
     "output_type": "display_data"
    }
   ],
   "source": [
    "x,y = symbols('x y')\n",
    "f = (x-2)**2 + (y-4)**2\n",
    "variables = [x,y]\n",
    "init_values = [4,5]\n",
    "rate = 0.01\n",
    "\n",
    "ans = GradientDescent(f,variables,init_values,rate)\n",
    "print(\"Optimal Point: \")\n",
    "print(\"x = \" + str(ans[0]) +\", y = \" + str(ans[1]))\n",
    "print(\"Optimal Value: \")\n",
    "print(\"f(x,y) = \" + str(evalFunc(f,variables,ans)))"
   ]
  }
 ],
 "metadata": {
  "kernelspec": {
   "display_name": "Python 3",
   "language": "python",
   "name": "python3"
  },
  "language_info": {
   "codemirror_mode": {
    "name": "ipython",
    "version": 3
   },
   "file_extension": ".py",
   "mimetype": "text/x-python",
   "name": "python",
   "nbconvert_exporter": "python",
   "pygments_lexer": "ipython3",
   "version": "3.8.3"
  }
 },
 "nbformat": 4,
 "nbformat_minor": 4
}
