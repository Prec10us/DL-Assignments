{
 "cells": [
  {
   "cell_type": "code",
   "execution_count": 1,
   "metadata": {},
   "outputs": [],
   "source": [
    "import numpy as np\n",
    "import matplotlib.pyplot as plt"
   ]
  },
  {
   "cell_type": "code",
   "execution_count": 2,
   "metadata": {},
   "outputs": [],
   "source": [
    "# Create stiffness matrix from list of stiffness values of all the springs\n",
    "def stiffnessMat(stiff):\n",
    "    n = len(stiff)\n",
    "    matrix = np.zeros(shape = (n, n))\n",
    "    for i in range(0,n-1):\n",
    "        matrix[i][i] += stiff[i] + stiff[i+1]\n",
    "    \n",
    "    matrix[n-1][n-1] += stiff[n-1]\n",
    "    \n",
    "    for i in range(1,n):\n",
    "        matrix[i-1][i] += -stiff[i]\n",
    "        matrix[i][i-1] += -stiff[i]\n",
    "    return matrix"
   ]
  },
  {
   "cell_type": "code",
   "execution_count": 3,
   "metadata": {},
   "outputs": [],
   "source": [
    "# Calculate displacement of each block from force and stiffness matrix\n",
    "def calculateDisp(force, stiffMat):\n",
    "    invStiff = np.linalg.inv(stiffMat)\n",
    "    disp = np.matmul(invStiff,force)\n",
    "    return disp"
   ]
  },
  {
   "cell_type": "code",
   "execution_count": 4,
   "metadata": {},
   "outputs": [],
   "source": [
    "def PCA(displacement, n, m, r):\n",
    "    \n",
    "    #find mean displacement\n",
    "    meanDisp = np.mean(displacement, axis = 0)\n",
    "    \n",
    "    #subtract mean from each of the data points\n",
    "    for i in range (0,m):\n",
    "        displacement[i] -= meanDisp\n",
    "    \n",
    "    #find covariance matrix of displacement\n",
    "    covDisp = np.cov(displacement, rowvar = False, bias = True)\n",
    "    \n",
    "    #find eigen values and vectors for covariance matrix\n",
    "    e,v = np.linalg.eig(covDisp)\n",
    "    idx = np.argsort(e)\n",
    "    e = e[idx]\n",
    "    v = v[:,idx]\n",
    "    eigenVectors = np.transpose(v)\n",
    "    \n",
    "    #new displacement vectors in terms of the new coordinate system generated from\n",
    "    #eigen vectors corresponding to the r largest eigen values\n",
    "    newDispVec = np.zeros(shape = (m,r))  \n",
    "    \n",
    "    #components of these new vectors in the original coordinate system,\n",
    "    #so that we can compare it with actual displacement data to calculate MSE\n",
    "    reduced = np.zeros(shape = (m,n))\n",
    "    for i in range(0,m):\n",
    "        for j in range(n-r,n):\n",
    "            newDispVec[i][j-(n-r)] += np.dot(displacement[i] , eigenVectors[j])\n",
    "            reduced[i] += np.dot(displacement[i], eigenVectors[j]) * eigenVectors[j]\n",
    "            \n",
    "    return eigenVectors, newDispVec, reduced\n",
    "            "
   ]
  },
  {
   "cell_type": "code",
   "execution_count": 5,
   "metadata": {},
   "outputs": [],
   "source": [
    "def modeShape(stiffMat, displacement, n, m, r):\n",
    "    \n",
    "    #find eigen values of stiffness matrix\n",
    "    e,v = np.linalg.eig(stiffMat)\n",
    "    idx = np.argsort(e)\n",
    "    e = e[idx]\n",
    "    v = v[:,idx]\n",
    "    eigenVectors = np.transpose(v)\n",
    "    \n",
    "    #new displacement vectors in terms of the new coordinate system generated from\n",
    "    #eigen vectors corresponding to the r smallest eigen values\n",
    "    newDispVec = np.zeros(shape = (m,r))\n",
    "    \n",
    "    #components of these new vectors in the original coordinate system,\n",
    "    #so that we can compare it with actual displacement data to calculate MSE\n",
    "    reduced = np.zeros(shape = (m,n))\n",
    "    for i in range(0,m):\n",
    "        for j in range(0,r):\n",
    "            newDispVec[i][j] += np.dot(displacement[i], eigenVectors[j])\n",
    "            reduced[i] += np.dot(displacement[i], eigenVectors[j]) * eigenVectors[j]\n",
    "            \n",
    "    return eigenVectors, newDispVec, reduced"
   ]
  },
  {
   "cell_type": "code",
   "execution_count": 6,
   "metadata": {},
   "outputs": [],
   "source": [
    "def MSE(dispOrig, dispNew, m):\n",
    "    mse = 0\n",
    "    for i in range(0,m):\n",
    "        error = np.linalg.norm(dispOrig - dispNew)\n",
    "        mse += error**2\n",
    "    mse = mse/m\n",
    "    return mse"
   ]
  },
  {
   "cell_type": "code",
   "execution_count": 7,
   "metadata": {},
   "outputs": [
    {
     "data": {
      "image/png": "[encoded data removed]",
      "text/plain": [
       "<Figure size 432x288 with 1 Axes>"
      ]
     },
     "metadata": {
      "needs_background": "light"
     },
     "output_type": "display_data"
    }
   ],
   "source": [
    "n = 30 # features\n",
    "m = 100 # data points\n",
    "forceMean = 0\n",
    "forceDev = 10\n",
    "stiffMean = 94\n",
    "stiffDev = 50\n",
    "\n",
    "#Generating random force values from normal distribution\n",
    "forceValues = np.random.normal(forceMean, forceDev, size = (m,n))\n",
    "\n",
    "#Generating random stiffness values from normal distribution\n",
    "stiff = np.random.normal(stiffMean, stiffDev, n)\n",
    "\n",
    "#Generating Stiffness Matrix from given stiffness values\n",
    "K = stiffnessMat(stiff)\n",
    "\n",
    "#Calculating displacement for given force and stiffness values\n",
    "displacement = np.zeros(shape = (m,n))\n",
    "displacement_error = np.zeros(shape = (m,n))\n",
    "for i in range(0,m):\n",
    "    displacement[i] = calculateDisp(forceValues[i], K)\n",
    "    displacement_error[i] +=  displacement[i] + np.random.uniform(-1,1) * 0.1 * displacement[i]  #+/- 5% error\n",
    "\n",
    "#MSE for PCA Approach\n",
    "mse = np.zeros(n)\n",
    "mse_error = np.zeros(n)\n",
    "rValues = np.zeros(n)\n",
    "\n",
    "#evPCA, temp1 = PCA(displacement,n,m,1)\n",
    "#evModeShape,temp2 = modeShape(K, displacement,n,m,n-3)\n",
    "#print(evPCA)\n",
    "#print(evModeShape)\n",
    "\n",
    "eigPCA = np.zeros(n)\n",
    "#Calculating MSE for both the approaches\n",
    "for i in range(0,n):\n",
    "    r = i+1\n",
    "    rValues[i] = r\n",
    "    eigPCA, newDisp, red = PCA(displacement,n,m,r)\n",
    "    eigPCA_error, newDisp_error, red_error = PCA(displacement_error,n,m,r)\n",
    "    mse[i] = MSE(displacement, red, m)\n",
    "    mse_error[i] = MSE(displacement, red_error, m)\n",
    "\n",
    "eigMS, newDispMs, redMS = modeShape(K, displacement, n , m , r)\n",
    "#print(\"Eigen Vectors for PCA\")\n",
    "#print(eigPCA)\n",
    "#print(\"Eigen Vectors of Mode Shape\")\n",
    "#print(eigMS)\n",
    "plt.plot(rValues, mse, label = \"PCA\")\n",
    "#plt.plot(rValues, mse_error, label = \"PCA Error\")\n",
    "plt.title(\"MSE vs number of features required\")\n",
    "plt.xlabel(\"Number of features\")\n",
    "plt.ylabel(\"MSE\")\n",
    "plt.legend()\n",
    "plt.show()\n",
    "\n"
   ]
  }
 ],
 "metadata": {
  "kernelspec": {
   "display_name": "Python 3",
   "language": "python",
   "name": "python3"
  },
  "language_info": {
   "codemirror_mode": {
    "name": "ipython",
    "version": 3
   },
   "file_extension": ".py",
   "mimetype": "text/x-python",
   "name": "python",
   "nbconvert_exporter": "python",
   "pygments_lexer": "ipython3",
   "version": "3.8.3"
  }
 },
 "nbformat": 4,
 "nbformat_minor": 4
}
