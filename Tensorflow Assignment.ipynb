{
 "cells": [
  {
   "cell_type": "code",
   "execution_count": 45,
   "metadata": {},
   "outputs": [],
   "source": [
    "import numpy as np\n",
    "from tensorflow.keras.models import Sequential\n",
    "from tensorflow.keras.layers import Activation, Dense\n",
    "from tensorflow.keras.optimizers import Adam\n",
    "from tensorflow.keras.metrics import categorical_crossentropy"
   ]
  },
  {
   "cell_type": "code",
   "execution_count": 46,
   "metadata": {},
   "outputs": [],
   "source": [
    "def disp(F, V):\n",
    "    Moment = 0.1**2*V**2 + F*0.2\n",
    "    ReactionForce = F + 0.1*V**2\n",
    "    I = (0.01 * (0.01**3))/12\n",
    "    E = 10**7\n",
    "    y = E**-1 * I **-1 * 0.2**2 * (Moment/2 + V*0.2**2/48 - 0.2*ReactionForce/6)\n",
    "    return y"
   ]
  },
  {
   "cell_type": "code",
   "execution_count": 47,
   "metadata": {
    "scrolled": true
   },
   "outputs": [],
   "source": [
    "\n",
    "g = 0.05\n",
    "X = []\n",
    "Y = []\n",
    "\n",
    "for i in range(10000):\n",
    "    curr = np.random.random(2)\n",
    "    X.append(curr)\n",
    "    if (disp(curr[0], curr[1]) > g and disp(curr[0], curr[1]) <6*g):\n",
    "        Y.append(1)\n",
    "    else:\n",
    "        Y.append(0)\n",
    "\n",
    "xData = []\n",
    "yData = []\n",
    "\n",
    "for i in range(1000):\n",
    "    curr = np.array([i/100, i/100])\n",
    "    xData.append(curr)\n",
    "    if (disp(curr[0], curr[1]) > g and disp(curr[0], curr[1]) <6*g):\n",
    "        yData.append(1)\n",
    "    else:\n",
    "        yData.append(0)\n",
    "        \n",
    "xData = np.array(xData)\n",
    "yData = np.array(yData)\n",
    "X = np.array(X)\n",
    "Y = np.array(Y)"
   ]
  },
  {
   "cell_type": "code",
   "execution_count": 51,
   "metadata": {
    "scrolled": true
   },
   "outputs": [
    {
     "name": "stdout",
     "output_type": "stream",
     "text": [
      "Epoch 1/50\n",
      "  1/900 [..............................] - ETA: 0s - loss: 0.8484 - accuracy: 0.3000WARNING:tensorflow:Callbacks method `on_train_batch_end` is slow compared to the batch time (batch time: 0.0000s vs `on_train_batch_end` time: 0.0010s). Check your callbacks.\n",
      "900/900 [==============================] - 1s 1ms/step - loss: 0.5362 - accuracy: 0.7693 - val_loss: 0.5192 - val_accuracy: 0.7870\n",
      "Epoch 2/50\n",
      "900/900 [==============================] - 1s 842us/step - loss: 0.5210 - accuracy: 0.7851 - val_loss: 0.5180 - val_accuracy: 0.7870\n",
      "Epoch 3/50\n",
      "900/900 [==============================] - 1s 758us/step - loss: 0.5198 - accuracy: 0.7851 - val_loss: 0.5165 - val_accuracy: 0.7870\n",
      "Epoch 4/50\n",
      "900/900 [==============================] - 1s 867us/step - loss: 0.5189 - accuracy: 0.7851 - val_loss: 0.5154 - val_accuracy: 0.7870\n",
      "Epoch 5/50\n",
      "900/900 [==============================] - 1s 832us/step - loss: 0.5177 - accuracy: 0.7851 - val_loss: 0.5139 - val_accuracy: 0.7870\n",
      "Epoch 6/50\n",
      "900/900 [==============================] - 1s 908us/step - loss: 0.5166 - accuracy: 0.7851 - val_loss: 0.5124 - val_accuracy: 0.7870\n",
      "Epoch 7/50\n",
      "900/900 [==============================] - 1s 1ms/step - loss: 0.5152 - accuracy: 0.7851 - val_loss: 0.5111 - val_accuracy: 0.7870\n",
      "Epoch 8/50\n",
      "900/900 [==============================] - 1s 707us/step - loss: 0.5137 - accuracy: 0.7851 - val_loss: 0.5094 - val_accuracy: 0.7870\n",
      "Epoch 9/50\n",
      "900/900 [==============================] - 1s 729us/step - loss: 0.5125 - accuracy: 0.7851 - val_loss: 0.5076 - val_accuracy: 0.7870\n",
      "Epoch 10/50\n",
      "900/900 [==============================] - 1s 908us/step - loss: 0.5108 - accuracy: 0.7851 - val_loss: 0.5062 - val_accuracy: 0.7870\n",
      "Epoch 11/50\n",
      "900/900 [==============================] - 1s 951us/step - loss: 0.5089 - accuracy: 0.7851 - val_loss: 0.5038 - val_accuracy: 0.7870\n",
      "Epoch 12/50\n",
      "900/900 [==============================] - 1s 935us/step - loss: 0.5071 - accuracy: 0.7851 - val_loss: 0.5014 - val_accuracy: 0.7870\n",
      "Epoch 13/50\n",
      "900/900 [==============================] - 1s 1ms/step - loss: 0.5054 - accuracy: 0.7851 - val_loss: 0.4989 - val_accuracy: 0.7870\n",
      "Epoch 14/50\n",
      "900/900 [==============================] - 2s 2ms/step - loss: 0.5031 - accuracy: 0.7851 - val_loss: 0.4969 - val_accuracy: 0.7870\n",
      "Epoch 15/50\n",
      "900/900 [==============================] - 1s 1ms/step - loss: 0.5009 - accuracy: 0.7851 - val_loss: 0.4934 - val_accuracy: 0.7870\n",
      "Epoch 16/50\n",
      "900/900 [==============================] - 2s 2ms/step - loss: 0.4984 - accuracy: 0.7851 - val_loss: 0.4927 - val_accuracy: 0.7870\n",
      "Epoch 17/50\n",
      "900/900 [==============================] - 1s 1ms/step - loss: 0.4962 - accuracy: 0.7851 - val_loss: 0.4877 - val_accuracy: 0.7870\n",
      "Epoch 18/50\n",
      "900/900 [==============================] - 1s 1ms/step - loss: 0.4934 - accuracy: 0.7851 - val_loss: 0.4849 - val_accuracy: 0.7870\n",
      "Epoch 19/50\n",
      "900/900 [==============================] - 1s 770us/step - loss: 0.4910 - accuracy: 0.7851 - val_loss: 0.4825 - val_accuracy: 0.7870\n",
      "Epoch 20/50\n",
      "900/900 [==============================] - 1s 941us/step - loss: 0.4883 - accuracy: 0.7851 - val_loss: 0.4785 - val_accuracy: 0.7870\n",
      "Epoch 21/50\n",
      "900/900 [==============================] - 1s 1ms/step - loss: 0.4854 - accuracy: 0.7851 - val_loss: 0.4752 - val_accuracy: 0.7870\n",
      "Epoch 22/50\n",
      "900/900 [==============================] - 1s 973us/step - loss: 0.4820 - accuracy: 0.7851 - val_loss: 0.4714 - val_accuracy: 0.7870\n",
      "Epoch 23/50\n",
      "900/900 [==============================] - 1s 929us/step - loss: 0.4782 - accuracy: 0.7852 - val_loss: 0.4673 - val_accuracy: 0.7870\n",
      "Epoch 24/50\n",
      "900/900 [==============================] - 1s 1ms/step - loss: 0.4742 - accuracy: 0.7853 - val_loss: 0.4628 - val_accuracy: 0.7870\n",
      "Epoch 25/50\n",
      "900/900 [==============================] - 1s 947us/step - loss: 0.4693 - accuracy: 0.7923 - val_loss: 0.4581 - val_accuracy: 0.7970\n",
      "Epoch 26/50\n",
      "900/900 [==============================] - 1s 832us/step - loss: 0.4641 - accuracy: 0.8039 - val_loss: 0.4538 - val_accuracy: 0.8320\n",
      "Epoch 27/50\n",
      "900/900 [==============================] - 1s 1ms/step - loss: 0.4585 - accuracy: 0.8189 - val_loss: 0.4461 - val_accuracy: 0.8350\n",
      "Epoch 28/50\n",
      "900/900 [==============================] - 1s 908us/step - loss: 0.4518 - accuracy: 0.8352 - val_loss: 0.4389 - val_accuracy: 0.8560\n",
      "Epoch 29/50\n",
      "900/900 [==============================] - 1s 1ms/step - loss: 0.4442 - accuracy: 0.8531 - val_loss: 0.4311 - val_accuracy: 0.8660\n",
      "Epoch 30/50\n",
      "900/900 [==============================] - 1s 939us/step - loss: 0.4358 - accuracy: 0.8620 - val_loss: 0.4228 - val_accuracy: 0.8890\n",
      "Epoch 31/50\n",
      "900/900 [==============================] - 1s 1ms/step - loss: 0.4268 - accuracy: 0.8781 - val_loss: 0.4127 - val_accuracy: 0.8630\n",
      "Epoch 32/50\n",
      "900/900 [==============================] - 1s 937us/step - loss: 0.4169 - accuracy: 0.8848 - val_loss: 0.4019 - val_accuracy: 0.9020\n",
      "Epoch 33/50\n",
      "900/900 [==============================] - 1s 751us/step - loss: 0.4061 - accuracy: 0.8933 - val_loss: 0.3905 - val_accuracy: 0.8980\n",
      "Epoch 34/50\n",
      "900/900 [==============================] - 1s 729us/step - loss: 0.3949 - accuracy: 0.8981 - val_loss: 0.3789 - val_accuracy: 0.8980\n",
      "Epoch 35/50\n",
      "900/900 [==============================] - 1s 778us/step - loss: 0.3829 - accuracy: 0.9033 - val_loss: 0.3674 - val_accuracy: 0.9200\n",
      "Epoch 36/50\n",
      "900/900 [==============================] - 1s 878us/step - loss: 0.3703 - accuracy: 0.9086 - val_loss: 0.3545 - val_accuracy: 0.9160\n",
      "Epoch 37/50\n",
      "900/900 [==============================] - 1s 885us/step - loss: 0.3575 - accuracy: 0.9100 - val_loss: 0.3410 - val_accuracy: 0.9160\n",
      "Epoch 38/50\n",
      "900/900 [==============================] - ETA: 0s - loss: 0.3441 - accuracy: 0.91 - 2s 2ms/step - loss: 0.3437 - accuracy: 0.9119 - val_loss: 0.3270 - val_accuracy: 0.9150\n",
      "Epoch 39/50\n",
      "900/900 [==============================] - 1s 951us/step - loss: 0.3289 - accuracy: 0.9113 - val_loss: 0.3125 - val_accuracy: 0.9190\n",
      "Epoch 40/50\n",
      "900/900 [==============================] - 1s 881us/step - loss: 0.3138 - accuracy: 0.9126 - val_loss: 0.2973 - val_accuracy: 0.9150\n",
      "Epoch 41/50\n",
      "900/900 [==============================] - 1s 920us/step - loss: 0.2975 - accuracy: 0.9128 - val_loss: 0.2810 - val_accuracy: 0.9200\n",
      "Epoch 42/50\n",
      "900/900 [==============================] - 1s 988us/step - loss: 0.2809 - accuracy: 0.9141 - val_loss: 0.2656 - val_accuracy: 0.9280\n",
      "Epoch 43/50\n",
      "900/900 [==============================] - 1s 1ms/step - loss: 0.2642 - accuracy: 0.9142 - val_loss: 0.2499 - val_accuracy: 0.9220\n",
      "Epoch 44/50\n",
      "900/900 [==============================] - 1s 1ms/step - loss: 0.2484 - accuracy: 0.9140 - val_loss: 0.2362 - val_accuracy: 0.9150\n",
      "Epoch 45/50\n",
      "900/900 [==============================] - 1s 1ms/step - loss: 0.2339 - accuracy: 0.9149 - val_loss: 0.2221 - val_accuracy: 0.9190\n",
      "Epoch 46/50\n",
      "900/900 [==============================] - 1s 1ms/step - loss: 0.2203 - accuracy: 0.9148 - val_loss: 0.2111 - val_accuracy: 0.9240\n",
      "Epoch 47/50\n",
      "900/900 [==============================] - 1s 1ms/step - loss: 0.2082 - accuracy: 0.9161 - val_loss: 0.1988 - val_accuracy: 0.9210\n",
      "Epoch 48/50\n",
      "900/900 [==============================] - 1s 890us/step - loss: 0.1967 - accuracy: 0.9159 - val_loss: 0.1887 - val_accuracy: 0.9250\n",
      "Epoch 49/50\n",
      "900/900 [==============================] - 1s 911us/step - loss: 0.1865 - accuracy: 0.9163 - val_loss: 0.1802 - val_accuracy: 0.9260\n",
      "Epoch 50/50\n",
      "900/900 [==============================] - 1s 966us/step - loss: 0.1770 - accuracy: 0.9176 - val_loss: 0.1707 - val_accuracy: 0.9260\n"
     ]
    },
    {
     "data": {
      "text/plain": [
       "<tensorflow.python.keras.callbacks.History at 0x1bb8a0e7730>"
      ]
     },
     "execution_count": 51,
     "metadata": {},
     "output_type": "execute_result"
    }
   ],
   "source": [
    "#Model\n",
    "model = Sequential()\n",
    "\n",
    "model.add(Dense(units=8, input_shape=(2,), activation='sigmoid'))\n",
    "model.add(Dense(units=16, activation='tanh'))\n",
    "model.add(Dense(units=1, activation='sigmoid'))\n",
    "\n",
    "model.compile(loss='binary_crossentropy', optimizer='sgd', metrics=['accuracy'])\n",
    "\n",
    "model.fit(X, Y, epochs=50, validation_split=0.1, batch_size=10, shuffle=True)\n"
   ]
  }
 ],
 "metadata": {
  "kernelspec": {
   "display_name": "Python 3",
   "language": "python",
   "name": "python3"
  },
  "language_info": {
   "codemirror_mode": {
    "name": "ipython",
    "version": 3
   },
   "file_extension": ".py",
   "mimetype": "text/x-python",
   "name": "python",
   "nbconvert_exporter": "python",
   "pygments_lexer": "ipython3",
   "version": "3.8.3"
  }
 },
 "nbformat": 4,
 "nbformat_minor": 4
}
